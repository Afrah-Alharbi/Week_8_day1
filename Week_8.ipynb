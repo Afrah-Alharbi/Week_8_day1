{
 "cells": [
  {
   "cell_type": "markdown",
   "metadata": {
    "tags": []
   },
   "source": [
    "# Quantum Stock Picking and Quantum Portfolio Optimization\n"
   ]
  },
  {
   "cell_type": "markdown",
   "metadata": {},
   "source": [
    "## Introduction\n",
    "\n",
    "This assignment will shows how we can use mean-variance optimization to pick stocks for a problem for $n$ assets:\n",
    "\n",
    "$$\\begin{aligned}\n",
    "\\min_{x \\in \\{0, 1\\}^n}  q x^T \\Sigma x - \\mu^T x\\\\\n",
    "\\text{subject to: } 1^T x = B\n",
    "\\end{aligned}$$\n",
    "\n",
    "where we use the following notation:\n",
    "\n",
    "- $x \\in \\{0, 1\\}^n$ denotes the vector of binary decision variables, which indicate which assets to pick ($x[i] = 1$) and which not to pick ($x[i] = 0$),\n",
    "- $\\mu \\in \\mathbb{R}^n$ defines the expected returns for the assets,\n",
    "- $\\Sigma \\in \\mathbb{R}^{n \\times n}$ specifies the covariances between the assets,\n",
    "- $q > 0$ controls the risk appetite of the decision maker,\n",
    "- and $B$ denotes the budget, i.e. the number of assets to be selected out of $n$.\n",
    "\n",
    "We assume the following simplifications:\n",
    "- all assets have the same price (normalized to 1),\n",
    "- the full budget $B$ has to be spent, i.e. one has to select exactly $B$ assets.\n",
    "\n",
    "The equality constraint $1^T x = B$ is mapped to a penalty term $(1^T x - B)^2$ which is scaled by a parameter and subtracted from the objective function. \n",
    "The resulting problem can be mapped to a Hamiltonian whose ground state corresponds to  the optimal solution.\n",
    "This notebook shows how to use the Variational Quantum Eigensolver (VQE) to find the optimal solution for a given set of parameters.\n",
    "\n",
    "Experiments on real quantum hardware for this problem are reported for instance in the following paper:\n",
    "<br>\n",
    "[Improving Variational Quantum Optimization using CVaR. Barkoutsos et al. 2019.](https://arxiv.org/abs/1907.04769)\n",
    "\n",
    "Note: We are not using CVaR as a portfolio statistic here, rather as a heuristic in our VQE procedure, curious students are encouraged to read the paper above."
   ]
  },
  {
   "cell_type": "markdown",
   "metadata": {},
   "source": [
    "#### To Students: Complete the following sections labeled todo"
   ]
  },
  {
   "cell_type": "code",
   "execution_count": 1,
   "metadata": {
    "tags": []
   },
   "outputs": [
    {
     "name": "stdout",
     "output_type": "stream",
     "text": [
      "Requirement already satisfied: qiskit in /opt/conda/lib/python3.8/site-packages (0.32.1)\n",
      "Requirement already satisfied: qiskit-ignis==0.6.0 in /opt/conda/lib/python3.8/site-packages (from qiskit) (0.6.0)\n",
      "Requirement already satisfied: qiskit-aer==0.9.1 in /opt/conda/lib/python3.8/site-packages (from qiskit) (0.9.1)\n",
      "Requirement already satisfied: qiskit-terra==0.18.3 in /opt/conda/lib/python3.8/site-packages (from qiskit) (0.18.3)\n",
      "Requirement already satisfied: qiskit-aqua==0.9.5 in /opt/conda/lib/python3.8/site-packages (from qiskit) (0.9.5)\n",
      "Requirement already satisfied: qiskit-ibmq-provider==0.18.1 in /opt/conda/lib/python3.8/site-packages (from qiskit) (0.18.1)\n",
      "Requirement already satisfied: scipy>=1.0 in /opt/conda/lib/python3.8/site-packages (from qiskit-aer==0.9.1->qiskit) (1.7.2)\n",
      "Requirement already satisfied: numpy>=1.16.3 in /opt/conda/lib/python3.8/site-packages (from qiskit-aer==0.9.1->qiskit) (1.21.4)\n",
      "Requirement already satisfied: dlx<=1.0.4 in /opt/conda/lib/python3.8/site-packages (from qiskit-aqua==0.9.5->qiskit) (1.0.4)\n",
      "Requirement already satisfied: retworkx>=0.8.0 in /opt/conda/lib/python3.8/site-packages (from qiskit-aqua==0.9.5->qiskit) (0.10.2)\n",
      "Requirement already satisfied: sympy>=1.3 in /opt/conda/lib/python3.8/site-packages (from qiskit-aqua==0.9.5->qiskit) (1.9)\n",
      "Requirement already satisfied: scikit-learn>=0.20.0 in /opt/conda/lib/python3.8/site-packages (from qiskit-aqua==0.9.5->qiskit) (1.0.1)\n",
      "Requirement already satisfied: docplex>=2.21.207 in /opt/conda/lib/python3.8/site-packages (from qiskit-aqua==0.9.5->qiskit) (2.22.213)\n",
      "Requirement already satisfied: yfinance>=0.1.62 in /opt/conda/lib/python3.8/site-packages (from qiskit-aqua==0.9.5->qiskit) (0.1.67)\n",
      "Requirement already satisfied: setuptools>=40.1.0 in /opt/conda/lib/python3.8/site-packages (from qiskit-aqua==0.9.5->qiskit) (59.2.0)\n",
      "Requirement already satisfied: fastdtw<=0.3.4 in /opt/conda/lib/python3.8/site-packages (from qiskit-aqua==0.9.5->qiskit) (0.3.4)\n",
      "Requirement already satisfied: h5py<3.3.0 in /opt/conda/lib/python3.8/site-packages (from qiskit-aqua==0.9.5->qiskit) (3.2.1)\n",
      "Requirement already satisfied: quandl in /opt/conda/lib/python3.8/site-packages (from qiskit-aqua==0.9.5->qiskit) (3.7.0)\n",
      "Requirement already satisfied: psutil>=5 in /opt/conda/lib/python3.8/site-packages (from qiskit-aqua==0.9.5->qiskit) (5.8.0)\n",
      "Requirement already satisfied: pandas in /opt/conda/lib/python3.8/site-packages (from qiskit-aqua==0.9.5->qiskit) (1.3.4)\n",
      "Requirement already satisfied: requests>=2.19 in /opt/conda/lib/python3.8/site-packages (from qiskit-ibmq-provider==0.18.1->qiskit) (2.26.0)\n",
      "Requirement already satisfied: python-dateutil>=2.8.0 in /opt/conda/lib/python3.8/site-packages (from qiskit-ibmq-provider==0.18.1->qiskit) (2.8.2)\n",
      "Requirement already satisfied: websocket-client>=1.0.1 in /opt/conda/lib/python3.8/site-packages (from qiskit-ibmq-provider==0.18.1->qiskit) (1.2.1)\n",
      "Requirement already satisfied: urllib3>=1.21.1 in /opt/conda/lib/python3.8/site-packages (from qiskit-ibmq-provider==0.18.1->qiskit) (1.26.7)\n",
      "Requirement already satisfied: requests-ntlm>=1.1.0 in /opt/conda/lib/python3.8/site-packages (from qiskit-ibmq-provider==0.18.1->qiskit) (1.1.0)\n",
      "Requirement already satisfied: dill>=0.3 in /opt/conda/lib/python3.8/site-packages (from qiskit-terra==0.18.3->qiskit) (0.3.4)\n",
      "Requirement already satisfied: ply>=3.10 in /opt/conda/lib/python3.8/site-packages (from qiskit-terra==0.18.3->qiskit) (3.11)\n",
      "Requirement already satisfied: jsonschema>=2.6 in /opt/conda/lib/python3.8/site-packages (from qiskit-terra==0.18.3->qiskit) (4.2.1)\n",
      "Requirement already satisfied: python-constraint>=1.4 in /opt/conda/lib/python3.8/site-packages (from qiskit-terra==0.18.3->qiskit) (1.4.0)\n",
      "Requirement already satisfied: tweedledum<2.0,>=1.1 in /opt/conda/lib/python3.8/site-packages (from qiskit-terra==0.18.3->qiskit) (1.1.1)\n",
      "Requirement already satisfied: fastjsonschema>=2.10 in /opt/conda/lib/python3.8/site-packages (from qiskit-terra==0.18.3->qiskit) (2.15.1)\n",
      "Requirement already satisfied: symengine>0.7 in /opt/conda/lib/python3.8/site-packages (from qiskit-terra==0.18.3->qiskit) (0.8.1)\n",
      "Requirement already satisfied: six in /opt/conda/lib/python3.8/site-packages (from docplex>=2.21.207->qiskit-aqua==0.9.5->qiskit) (1.16.0)\n",
      "Requirement already satisfied: pyrsistent!=0.17.0,!=0.17.1,!=0.17.2,>=0.14.0 in /opt/conda/lib/python3.8/site-packages (from jsonschema>=2.6->qiskit-terra==0.18.3->qiskit) (0.18.0)\n",
      "Requirement already satisfied: attrs>=17.4.0 in /opt/conda/lib/python3.8/site-packages (from jsonschema>=2.6->qiskit-terra==0.18.3->qiskit) (21.2.0)\n",
      "Requirement already satisfied: importlib-resources>=1.4.0 in /opt/conda/lib/python3.8/site-packages (from jsonschema>=2.6->qiskit-terra==0.18.3->qiskit) (5.4.0)\n",
      "Requirement already satisfied: zipp>=3.1.0 in /opt/conda/lib/python3.8/site-packages (from importlib-resources>=1.4.0->jsonschema>=2.6->qiskit-terra==0.18.3->qiskit) (3.6.0)\n",
      "Requirement already satisfied: idna<4,>=2.5 in /opt/conda/lib/python3.8/site-packages (from requests>=2.19->qiskit-ibmq-provider==0.18.1->qiskit) (3.3)\n",
      "Requirement already satisfied: certifi>=2017.4.17 in /opt/conda/lib/python3.8/site-packages (from requests>=2.19->qiskit-ibmq-provider==0.18.1->qiskit) (2021.10.8)\n",
      "Requirement already satisfied: charset-normalizer~=2.0.0 in /opt/conda/lib/python3.8/site-packages (from requests>=2.19->qiskit-ibmq-provider==0.18.1->qiskit) (2.0.7)\n",
      "Requirement already satisfied: ntlm-auth>=1.0.2 in /opt/conda/lib/python3.8/site-packages (from requests-ntlm>=1.1.0->qiskit-ibmq-provider==0.18.1->qiskit) (1.5.0)\n",
      "Requirement already satisfied: cryptography>=1.3 in /opt/conda/lib/python3.8/site-packages (from requests-ntlm>=1.1.0->qiskit-ibmq-provider==0.18.1->qiskit) (36.0.0)\n",
      "Requirement already satisfied: cffi>=1.12 in /opt/conda/lib/python3.8/site-packages (from cryptography>=1.3->requests-ntlm>=1.1.0->qiskit-ibmq-provider==0.18.1->qiskit) (1.15.0)\n",
      "Requirement already satisfied: pycparser in /opt/conda/lib/python3.8/site-packages (from cffi>=1.12->cryptography>=1.3->requests-ntlm>=1.1.0->qiskit-ibmq-provider==0.18.1->qiskit) (2.21)\n",
      "Requirement already satisfied: threadpoolctl>=2.0.0 in /opt/conda/lib/python3.8/site-packages (from scikit-learn>=0.20.0->qiskit-aqua==0.9.5->qiskit) (3.0.0)\n",
      "Requirement already satisfied: joblib>=0.11 in /opt/conda/lib/python3.8/site-packages (from scikit-learn>=0.20.0->qiskit-aqua==0.9.5->qiskit) (1.1.0)\n",
      "Requirement already satisfied: mpmath>=0.19 in /opt/conda/lib/python3.8/site-packages (from sympy>=1.3->qiskit-aqua==0.9.5->qiskit) (1.2.1)\n",
      "Requirement already satisfied: lxml>=4.5.1 in /opt/conda/lib/python3.8/site-packages (from yfinance>=0.1.62->qiskit-aqua==0.9.5->qiskit) (4.6.4)\n",
      "Requirement already satisfied: multitasking>=0.0.7 in /opt/conda/lib/python3.8/site-packages (from yfinance>=0.1.62->qiskit-aqua==0.9.5->qiskit) (0.0.10)\n",
      "Requirement already satisfied: pytz>=2017.3 in /opt/conda/lib/python3.8/site-packages (from pandas->qiskit-aqua==0.9.5->qiskit) (2021.3)\n",
      "Requirement already satisfied: more-itertools in /opt/conda/lib/python3.8/site-packages (from quandl->qiskit-aqua==0.9.5->qiskit) (8.11.0)\n",
      "Requirement already satisfied: inflection>=0.3.1 in /opt/conda/lib/python3.8/site-packages (from quandl->qiskit-aqua==0.9.5->qiskit) (0.5.1)\n",
      "Note: you may need to restart the kernel to use updated packages.\n"
     ]
    }
   ],
   "source": [
    "pip install qiskit"
   ]
  },
  {
   "cell_type": "code",
   "execution_count": 2,
   "metadata": {
    "tags": []
   },
   "outputs": [
    {
     "name": "stdout",
     "output_type": "stream",
     "text": [
      "Requirement already satisfied: qiskit[visualization] in /opt/conda/lib/python3.8/site-packages (0.32.1)\n",
      "Requirement already satisfied: qiskit-terra==0.18.3 in /opt/conda/lib/python3.8/site-packages (from qiskit[visualization]) (0.18.3)\n",
      "Requirement already satisfied: qiskit-ibmq-provider==0.18.1 in /opt/conda/lib/python3.8/site-packages (from qiskit[visualization]) (0.18.1)\n",
      "Requirement already satisfied: qiskit-aqua==0.9.5 in /opt/conda/lib/python3.8/site-packages (from qiskit[visualization]) (0.9.5)\n",
      "Requirement already satisfied: qiskit-aer==0.9.1 in /opt/conda/lib/python3.8/site-packages (from qiskit[visualization]) (0.9.1)\n",
      "Requirement already satisfied: qiskit-ignis==0.6.0 in /opt/conda/lib/python3.8/site-packages (from qiskit[visualization]) (0.6.0)\n",
      "Requirement already satisfied: pygments>=2.4 in /opt/conda/lib/python3.8/site-packages (from qiskit[visualization]) (2.10.0)\n",
      "Requirement already satisfied: seaborn>=0.9.0 in /opt/conda/lib/python3.8/site-packages (from qiskit[visualization]) (0.11.2)\n",
      "Requirement already satisfied: pydot in /opt/conda/lib/python3.8/site-packages (from qiskit[visualization]) (1.4.2)\n",
      "Requirement already satisfied: ipywidgets>=7.3.0 in /opt/conda/lib/python3.8/site-packages (from qiskit[visualization]) (7.6.5)\n",
      "Requirement already satisfied: pylatexenc>=1.4 in /opt/conda/lib/python3.8/site-packages (from qiskit[visualization]) (2.10)\n",
      "Requirement already satisfied: matplotlib>=2.1 in /opt/conda/lib/python3.8/site-packages (from qiskit[visualization]) (3.4.3)\n",
      "Requirement already satisfied: pillow>=4.2.1 in /opt/conda/lib/python3.8/site-packages (from qiskit[visualization]) (8.4.0)\n",
      "Requirement already satisfied: numpy>=1.16.3 in /opt/conda/lib/python3.8/site-packages (from qiskit-aer==0.9.1->qiskit[visualization]) (1.21.4)\n",
      "Requirement already satisfied: scipy>=1.0 in /opt/conda/lib/python3.8/site-packages (from qiskit-aer==0.9.1->qiskit[visualization]) (1.7.2)\n",
      "Requirement already satisfied: setuptools>=40.1.0 in /opt/conda/lib/python3.8/site-packages (from qiskit-aqua==0.9.5->qiskit[visualization]) (59.2.0)\n",
      "Requirement already satisfied: quandl in /opt/conda/lib/python3.8/site-packages (from qiskit-aqua==0.9.5->qiskit[visualization]) (3.7.0)\n",
      "Requirement already satisfied: psutil>=5 in /opt/conda/lib/python3.8/site-packages (from qiskit-aqua==0.9.5->qiskit[visualization]) (5.8.0)\n",
      "Requirement already satisfied: dlx<=1.0.4 in /opt/conda/lib/python3.8/site-packages (from qiskit-aqua==0.9.5->qiskit[visualization]) (1.0.4)\n",
      "Requirement already satisfied: sympy>=1.3 in /opt/conda/lib/python3.8/site-packages (from qiskit-aqua==0.9.5->qiskit[visualization]) (1.9)\n",
      "Requirement already satisfied: docplex>=2.21.207 in /opt/conda/lib/python3.8/site-packages (from qiskit-aqua==0.9.5->qiskit[visualization]) (2.22.213)\n",
      "Requirement already satisfied: fastdtw<=0.3.4 in /opt/conda/lib/python3.8/site-packages (from qiskit-aqua==0.9.5->qiskit[visualization]) (0.3.4)\n",
      "Requirement already satisfied: yfinance>=0.1.62 in /opt/conda/lib/python3.8/site-packages (from qiskit-aqua==0.9.5->qiskit[visualization]) (0.1.67)\n",
      "Requirement already satisfied: h5py<3.3.0 in /opt/conda/lib/python3.8/site-packages (from qiskit-aqua==0.9.5->qiskit[visualization]) (3.2.1)\n",
      "Requirement already satisfied: scikit-learn>=0.20.0 in /opt/conda/lib/python3.8/site-packages (from qiskit-aqua==0.9.5->qiskit[visualization]) (1.0.1)\n",
      "Requirement already satisfied: retworkx>=0.8.0 in /opt/conda/lib/python3.8/site-packages (from qiskit-aqua==0.9.5->qiskit[visualization]) (0.10.2)\n",
      "Requirement already satisfied: pandas in /opt/conda/lib/python3.8/site-packages (from qiskit-aqua==0.9.5->qiskit[visualization]) (1.3.4)\n",
      "Requirement already satisfied: requests>=2.19 in /opt/conda/lib/python3.8/site-packages (from qiskit-ibmq-provider==0.18.1->qiskit[visualization]) (2.26.0)\n",
      "Requirement already satisfied: urllib3>=1.21.1 in /opt/conda/lib/python3.8/site-packages (from qiskit-ibmq-provider==0.18.1->qiskit[visualization]) (1.26.7)\n",
      "Requirement already satisfied: requests-ntlm>=1.1.0 in /opt/conda/lib/python3.8/site-packages (from qiskit-ibmq-provider==0.18.1->qiskit[visualization]) (1.1.0)\n",
      "Requirement already satisfied: websocket-client>=1.0.1 in /opt/conda/lib/python3.8/site-packages (from qiskit-ibmq-provider==0.18.1->qiskit[visualization]) (1.2.1)\n",
      "Requirement already satisfied: python-dateutil>=2.8.0 in /opt/conda/lib/python3.8/site-packages (from qiskit-ibmq-provider==0.18.1->qiskit[visualization]) (2.8.2)\n",
      "Requirement already satisfied: dill>=0.3 in /opt/conda/lib/python3.8/site-packages (from qiskit-terra==0.18.3->qiskit[visualization]) (0.3.4)\n",
      "Requirement already satisfied: tweedledum<2.0,>=1.1 in /opt/conda/lib/python3.8/site-packages (from qiskit-terra==0.18.3->qiskit[visualization]) (1.1.1)\n",
      "Requirement already satisfied: python-constraint>=1.4 in /opt/conda/lib/python3.8/site-packages (from qiskit-terra==0.18.3->qiskit[visualization]) (1.4.0)\n",
      "Requirement already satisfied: fastjsonschema>=2.10 in /opt/conda/lib/python3.8/site-packages (from qiskit-terra==0.18.3->qiskit[visualization]) (2.15.1)\n",
      "Requirement already satisfied: jsonschema>=2.6 in /opt/conda/lib/python3.8/site-packages (from qiskit-terra==0.18.3->qiskit[visualization]) (4.2.1)\n",
      "Requirement already satisfied: symengine>0.7 in /opt/conda/lib/python3.8/site-packages (from qiskit-terra==0.18.3->qiskit[visualization]) (0.8.1)\n",
      "Requirement already satisfied: ply>=3.10 in /opt/conda/lib/python3.8/site-packages (from qiskit-terra==0.18.3->qiskit[visualization]) (3.11)\n",
      "Requirement already satisfied: six in /opt/conda/lib/python3.8/site-packages (from docplex>=2.21.207->qiskit-aqua==0.9.5->qiskit[visualization]) (1.16.0)\n",
      "Requirement already satisfied: nbformat>=4.2.0 in /opt/conda/lib/python3.8/site-packages (from ipywidgets>=7.3.0->qiskit[visualization]) (5.1.3)\n",
      "Requirement already satisfied: traitlets>=4.3.1 in /opt/conda/lib/python3.8/site-packages (from ipywidgets>=7.3.0->qiskit[visualization]) (5.1.1)\n",
      "Requirement already satisfied: jupyterlab-widgets>=1.0.0 in /opt/conda/lib/python3.8/site-packages (from ipywidgets>=7.3.0->qiskit[visualization]) (1.0.2)\n",
      "Requirement already satisfied: ipykernel>=4.5.1 in /opt/conda/lib/python3.8/site-packages (from ipywidgets>=7.3.0->qiskit[visualization]) (6.5.1)\n",
      "Requirement already satisfied: ipython>=4.0.0 in /opt/conda/lib/python3.8/site-packages (from ipywidgets>=7.3.0->qiskit[visualization]) (7.29.0)\n",
      "Requirement already satisfied: ipython-genutils~=0.2.0 in /opt/conda/lib/python3.8/site-packages (from ipywidgets>=7.3.0->qiskit[visualization]) (0.2.0)\n",
      "Requirement already satisfied: widgetsnbextension~=3.5.0 in /opt/conda/lib/python3.8/site-packages (from ipywidgets>=7.3.0->qiskit[visualization]) (3.5.2)\n",
      "Requirement already satisfied: jupyter-client<8.0 in /opt/conda/lib/python3.8/site-packages (from ipykernel>=4.5.1->ipywidgets>=7.3.0->qiskit[visualization]) (6.1.12)\n",
      "Requirement already satisfied: debugpy<2.0,>=1.0.0 in /opt/conda/lib/python3.8/site-packages (from ipykernel>=4.5.1->ipywidgets>=7.3.0->qiskit[visualization]) (1.5.1)\n",
      "Requirement already satisfied: tornado<7.0,>=4.2 in /opt/conda/lib/python3.8/site-packages (from ipykernel>=4.5.1->ipywidgets>=7.3.0->qiskit[visualization]) (6.1)\n",
      "Requirement already satisfied: matplotlib-inline<0.2.0,>=0.1.0 in /opt/conda/lib/python3.8/site-packages (from ipykernel>=4.5.1->ipywidgets>=7.3.0->qiskit[visualization]) (0.1.3)\n",
      "Requirement already satisfied: prompt-toolkit!=3.0.0,!=3.0.1,<3.1.0,>=2.0.0 in /opt/conda/lib/python3.8/site-packages (from ipython>=4.0.0->ipywidgets>=7.3.0->qiskit[visualization]) (3.0.22)\n",
      "Requirement already satisfied: pickleshare in /opt/conda/lib/python3.8/site-packages (from ipython>=4.0.0->ipywidgets>=7.3.0->qiskit[visualization]) (0.7.5)\n",
      "Requirement already satisfied: jedi>=0.16 in /opt/conda/lib/python3.8/site-packages (from ipython>=4.0.0->ipywidgets>=7.3.0->qiskit[visualization]) (0.18.1)\n",
      "Requirement already satisfied: pexpect>4.3 in /opt/conda/lib/python3.8/site-packages (from ipython>=4.0.0->ipywidgets>=7.3.0->qiskit[visualization]) (4.8.0)\n",
      "Requirement already satisfied: backcall in /opt/conda/lib/python3.8/site-packages (from ipython>=4.0.0->ipywidgets>=7.3.0->qiskit[visualization]) (0.2.0)\n",
      "Requirement already satisfied: decorator in /opt/conda/lib/python3.8/site-packages (from ipython>=4.0.0->ipywidgets>=7.3.0->qiskit[visualization]) (4.4.2)\n",
      "Requirement already satisfied: parso<0.9.0,>=0.8.0 in /opt/conda/lib/python3.8/site-packages (from jedi>=0.16->ipython>=4.0.0->ipywidgets>=7.3.0->qiskit[visualization]) (0.8.2)\n",
      "Requirement already satisfied: pyrsistent!=0.17.0,!=0.17.1,!=0.17.2,>=0.14.0 in /opt/conda/lib/python3.8/site-packages (from jsonschema>=2.6->qiskit-terra==0.18.3->qiskit[visualization]) (0.18.0)\n",
      "Requirement already satisfied: importlib-resources>=1.4.0 in /opt/conda/lib/python3.8/site-packages (from jsonschema>=2.6->qiskit-terra==0.18.3->qiskit[visualization]) (5.4.0)\n",
      "Requirement already satisfied: attrs>=17.4.0 in /opt/conda/lib/python3.8/site-packages (from jsonschema>=2.6->qiskit-terra==0.18.3->qiskit[visualization]) (21.2.0)\n",
      "Requirement already satisfied: zipp>=3.1.0 in /opt/conda/lib/python3.8/site-packages (from importlib-resources>=1.4.0->jsonschema>=2.6->qiskit-terra==0.18.3->qiskit[visualization]) (3.6.0)\n",
      "Requirement already satisfied: pyzmq>=13 in /opt/conda/lib/python3.8/site-packages (from jupyter-client<8.0->ipykernel>=4.5.1->ipywidgets>=7.3.0->qiskit[visualization]) (22.3.0)\n",
      "Requirement already satisfied: jupyter-core>=4.6.0 in /opt/conda/lib/python3.8/site-packages (from jupyter-client<8.0->ipykernel>=4.5.1->ipywidgets>=7.3.0->qiskit[visualization]) (4.9.1)\n",
      "Requirement already satisfied: cycler>=0.10 in /opt/conda/lib/python3.8/site-packages (from matplotlib>=2.1->qiskit[visualization]) (0.11.0)\n",
      "Requirement already satisfied: pyparsing>=2.2.1 in /opt/conda/lib/python3.8/site-packages (from matplotlib>=2.1->qiskit[visualization]) (2.4.7)\n",
      "Requirement already satisfied: kiwisolver>=1.0.1 in /opt/conda/lib/python3.8/site-packages (from matplotlib>=2.1->qiskit[visualization]) (1.3.2)\n",
      "Requirement already satisfied: ptyprocess>=0.5 in /opt/conda/lib/python3.8/site-packages (from pexpect>4.3->ipython>=4.0.0->ipywidgets>=7.3.0->qiskit[visualization]) (0.7.0)\n",
      "Requirement already satisfied: wcwidth in /opt/conda/lib/python3.8/site-packages (from prompt-toolkit!=3.0.0,!=3.0.1,<3.1.0,>=2.0.0->ipython>=4.0.0->ipywidgets>=7.3.0->qiskit[visualization]) (0.2.5)\n",
      "Requirement already satisfied: certifi>=2017.4.17 in /opt/conda/lib/python3.8/site-packages (from requests>=2.19->qiskit-ibmq-provider==0.18.1->qiskit[visualization]) (2021.10.8)\n",
      "Requirement already satisfied: idna<4,>=2.5 in /opt/conda/lib/python3.8/site-packages (from requests>=2.19->qiskit-ibmq-provider==0.18.1->qiskit[visualization]) (3.3)\n",
      "Requirement already satisfied: charset-normalizer~=2.0.0 in /opt/conda/lib/python3.8/site-packages (from requests>=2.19->qiskit-ibmq-provider==0.18.1->qiskit[visualization]) (2.0.7)\n",
      "Requirement already satisfied: cryptography>=1.3 in /opt/conda/lib/python3.8/site-packages (from requests-ntlm>=1.1.0->qiskit-ibmq-provider==0.18.1->qiskit[visualization]) (36.0.0)\n",
      "Requirement already satisfied: ntlm-auth>=1.0.2 in /opt/conda/lib/python3.8/site-packages (from requests-ntlm>=1.1.0->qiskit-ibmq-provider==0.18.1->qiskit[visualization]) (1.5.0)\n",
      "Requirement already satisfied: cffi>=1.12 in /opt/conda/lib/python3.8/site-packages (from cryptography>=1.3->requests-ntlm>=1.1.0->qiskit-ibmq-provider==0.18.1->qiskit[visualization]) (1.15.0)\n",
      "Requirement already satisfied: pycparser in /opt/conda/lib/python3.8/site-packages (from cffi>=1.12->cryptography>=1.3->requests-ntlm>=1.1.0->qiskit-ibmq-provider==0.18.1->qiskit[visualization]) (2.21)\n",
      "Requirement already satisfied: threadpoolctl>=2.0.0 in /opt/conda/lib/python3.8/site-packages (from scikit-learn>=0.20.0->qiskit-aqua==0.9.5->qiskit[visualization]) (3.0.0)\n",
      "Requirement already satisfied: joblib>=0.11 in /opt/conda/lib/python3.8/site-packages (from scikit-learn>=0.20.0->qiskit-aqua==0.9.5->qiskit[visualization]) (1.1.0)\n",
      "Requirement already satisfied: pytz>=2017.3 in /opt/conda/lib/python3.8/site-packages (from pandas->qiskit-aqua==0.9.5->qiskit[visualization]) (2021.3)\n",
      "Requirement already satisfied: mpmath>=0.19 in /opt/conda/lib/python3.8/site-packages (from sympy>=1.3->qiskit-aqua==0.9.5->qiskit[visualization]) (1.2.1)\n",
      "Requirement already satisfied: notebook>=4.4.1 in /opt/conda/lib/python3.8/site-packages (from widgetsnbextension~=3.5.0->ipywidgets>=7.3.0->qiskit[visualization]) (6.4.6)\n",
      "Requirement already satisfied: terminado>=0.8.3 in /opt/conda/lib/python3.8/site-packages (from notebook>=4.4.1->widgetsnbextension~=3.5.0->ipywidgets>=7.3.0->qiskit[visualization]) (0.12.1)\n",
      "Requirement already satisfied: nbconvert in /opt/conda/lib/python3.8/site-packages (from notebook>=4.4.1->widgetsnbextension~=3.5.0->ipywidgets>=7.3.0->qiskit[visualization]) (6.3.0)\n",
      "Requirement already satisfied: nest-asyncio>=1.5 in /opt/conda/lib/python3.8/site-packages (from notebook>=4.4.1->widgetsnbextension~=3.5.0->ipywidgets>=7.3.0->qiskit[visualization]) (1.5.1)\n",
      "Requirement already satisfied: jinja2 in /opt/conda/lib/python3.8/site-packages (from notebook>=4.4.1->widgetsnbextension~=3.5.0->ipywidgets>=7.3.0->qiskit[visualization]) (3.0.3)\n",
      "Requirement already satisfied: argon2-cffi in /opt/conda/lib/python3.8/site-packages (from notebook>=4.4.1->widgetsnbextension~=3.5.0->ipywidgets>=7.3.0->qiskit[visualization]) (21.1.0)\n",
      "Requirement already satisfied: prometheus-client in /opt/conda/lib/python3.8/site-packages (from notebook>=4.4.1->widgetsnbextension~=3.5.0->ipywidgets>=7.3.0->qiskit[visualization]) (0.12.0)\n",
      "Requirement already satisfied: Send2Trash>=1.8.0 in /opt/conda/lib/python3.8/site-packages (from notebook>=4.4.1->widgetsnbextension~=3.5.0->ipywidgets>=7.3.0->qiskit[visualization]) (1.8.0)\n",
      "Requirement already satisfied: lxml>=4.5.1 in /opt/conda/lib/python3.8/site-packages (from yfinance>=0.1.62->qiskit-aqua==0.9.5->qiskit[visualization]) (4.6.4)\n",
      "Requirement already satisfied: multitasking>=0.0.7 in /opt/conda/lib/python3.8/site-packages (from yfinance>=0.1.62->qiskit-aqua==0.9.5->qiskit[visualization]) (0.0.10)\n",
      "Requirement already satisfied: MarkupSafe>=2.0 in /opt/conda/lib/python3.8/site-packages (from jinja2->notebook>=4.4.1->widgetsnbextension~=3.5.0->ipywidgets>=7.3.0->qiskit[visualization]) (2.0.1)\n",
      "Requirement already satisfied: entrypoints>=0.2.2 in /opt/conda/lib/python3.8/site-packages (from nbconvert->notebook>=4.4.1->widgetsnbextension~=3.5.0->ipywidgets>=7.3.0->qiskit[visualization]) (0.3)\n",
      "Requirement already satisfied: nbclient<0.6.0,>=0.5.0 in /opt/conda/lib/python3.8/site-packages (from nbconvert->notebook>=4.4.1->widgetsnbextension~=3.5.0->ipywidgets>=7.3.0->qiskit[visualization]) (0.5.9)\n",
      "Requirement already satisfied: testpath in /opt/conda/lib/python3.8/site-packages (from nbconvert->notebook>=4.4.1->widgetsnbextension~=3.5.0->ipywidgets>=7.3.0->qiskit[visualization]) (0.5.0)\n",
      "Requirement already satisfied: defusedxml in /opt/conda/lib/python3.8/site-packages (from nbconvert->notebook>=4.4.1->widgetsnbextension~=3.5.0->ipywidgets>=7.3.0->qiskit[visualization]) (0.7.1)\n",
      "Requirement already satisfied: mistune<2,>=0.8.1 in /opt/conda/lib/python3.8/site-packages (from nbconvert->notebook>=4.4.1->widgetsnbextension~=3.5.0->ipywidgets>=7.3.0->qiskit[visualization]) (0.8.4)\n",
      "Requirement already satisfied: jupyterlab-pygments in /opt/conda/lib/python3.8/site-packages (from nbconvert->notebook>=4.4.1->widgetsnbextension~=3.5.0->ipywidgets>=7.3.0->qiskit[visualization]) (0.1.2)\n",
      "Requirement already satisfied: pandocfilters>=1.4.1 in /opt/conda/lib/python3.8/site-packages (from nbconvert->notebook>=4.4.1->widgetsnbextension~=3.5.0->ipywidgets>=7.3.0->qiskit[visualization]) (1.5.0)\n",
      "Requirement already satisfied: bleach in /opt/conda/lib/python3.8/site-packages (from nbconvert->notebook>=4.4.1->widgetsnbextension~=3.5.0->ipywidgets>=7.3.0->qiskit[visualization]) (4.1.0)\n",
      "Requirement already satisfied: packaging in /opt/conda/lib/python3.8/site-packages (from bleach->nbconvert->notebook>=4.4.1->widgetsnbextension~=3.5.0->ipywidgets>=7.3.0->qiskit[visualization]) (21.3)\n",
      "Requirement already satisfied: webencodings in /opt/conda/lib/python3.8/site-packages (from bleach->nbconvert->notebook>=4.4.1->widgetsnbextension~=3.5.0->ipywidgets>=7.3.0->qiskit[visualization]) (0.5.1)\n",
      "Requirement already satisfied: inflection>=0.3.1 in /opt/conda/lib/python3.8/site-packages (from quandl->qiskit-aqua==0.9.5->qiskit[visualization]) (0.5.1)\n",
      "Requirement already satisfied: more-itertools in /opt/conda/lib/python3.8/site-packages (from quandl->qiskit-aqua==0.9.5->qiskit[visualization]) (8.11.0)\n",
      "Note: you may need to restart the kernel to use updated packages.\n"
     ]
    }
   ],
   "source": [
    "pip install qiskit[visualization]"
   ]
  },
  {
   "cell_type": "code",
   "execution_count": 3,
   "metadata": {
    "ExecuteTime": {
     "end_time": "2020-07-13T20:35:05.710593Z",
     "start_time": "2020-07-13T20:34:57.647535Z"
    }
   },
   "outputs": [],
   "source": [
    "from qiskit import Aer\n",
    "from qiskit.algorithms import VQE, QAOA, NumPyMinimumEigensolver\n",
    "from qiskit.algorithms.optimizers import COBYLA\n",
    "from qiskit.circuit.library import TwoLocal\n",
    "from qiskit.utils import QuantumInstance\n",
    "from qiskit_finance.applications.optimization import PortfolioOptimization\n",
    "from qiskit_finance.data_providers import RandomDataProvider, YahooDataProvider\n",
    "from qiskit_optimization.algorithms import MinimumEigenOptimizer\n",
    "from qiskit_optimization.applications import OptimizationApplication\n",
    "from qiskit_optimization.converters import QuadraticProgramToQubo\n",
    "from qiskit.utils import algorithm_globals\n",
    "\n",
    "import numpy as np\n",
    "import matplotlib.pyplot as plt\n",
    "import datetime\n",
    "import pandas\n",
    "import pandas as pd\n",
    "\n",
    "def index_to_selection(i, num_assets):\n",
    "    s = \"{0:b}\".format(i).rjust(num_assets)\n",
    "    x = np.array([1 if s[i]=='1' else 0 for i in reversed(range(num_assets))])\n",
    "    return x\n",
    "\n",
    "def print_result(result):\n",
    "    selection = result.x\n",
    "    value = result.fval\n",
    "    print('Optimal: selection {}, value {:.4f}'.format(selection, value))\n",
    "    \n",
    "    eigenstate = result.min_eigen_solver_result.eigenstate\n",
    "    eigenvector = eigenstate if isinstance(eigenstate, np.ndarray) else eigenstate.to_matrix()\n",
    "    probabilities = np.abs(eigenvector)**2\n",
    "    i_sorted = reversed(np.argsort(probabilities))\n",
    "    print('\\n----------------- Full result ---------------------')\n",
    "    print('selection\\tvalue\\t\\tprobability')\n",
    "    print('---------------------------------------------------')\n",
    "    for i in i_sorted:\n",
    "        x = index_to_selection(i, num_assets)\n",
    "        value = QuadraticProgramToQubo().convert(qp).objective.evaluate(x)\n",
    "        #value = portfolio.to_quadratic_program().objective.evaluate(x)\n",
    "        probability = probabilities[i]\n",
    "        print('%10s\\t%.4f\\t\\t%.4f' %(x, value, probability))"
   ]
  },
  {
   "cell_type": "code",
   "execution_count": 4,
   "metadata": {},
   "outputs": [],
   "source": [
    "#global random seed used throuhgout\n",
    "seed = 123"
   ]
  },
  {
   "cell_type": "code",
   "execution_count": 5,
   "metadata": {
    "ExecuteTime": {
     "end_time": "2020-07-13T20:35:15.224327Z",
     "start_time": "2020-07-13T20:35:15.213892Z"
    }
   },
   "outputs": [],
   "source": [
    "# Generate expected return and covariance matrix from (random) time-series\n",
    "\n",
    "#Todo pick candidate stocks, 3-8 are recommended, stick to 4 if you're going to submit a real quantum experiment to IBM's cloud:\n",
    "\n",
    "stocks = [\"GOOGL\",\"ACN\",\"AMZN\",\"IBM\"]\n",
    "\n",
    "# Here are some quantum themed stocks :) \n",
    "# ['IBM','AMD','ACN','NVDA','GOOGL','MSFT','AMZN','MU','BABA']\n",
    "# Feel free to pick any in this list or beyond\n",
    "    \n",
    "num_assets = len(stocks)\n",
    "\n",
    "#IBM has done us a favour and provided a cute data provider they designed.\n",
    "data = YahooDataProvider(tickers=stocks,\n",
    "                 start=pandas.Timestamp(\"2017-1-1\"),\n",
    "                 end=pandas.Timestamp.now())\n",
    "data.run()\n",
    "\n",
    "# Here we pull apart the IBM qiskit_finance.data_provider internals to retreive our data and format as a pandas DataFrame\n",
    "df = pandas.DataFrame({data._tickers[tidx]:data._data[tidx] for tidx in range(len(data._tickers))})\n",
    "\n",
    "# Provided by IBM\n",
    "mu = data.get_period_return_mean_vector()\n",
    "sigma = data.get_period_return_covariance_matrix()"
   ]
  },
  {
   "cell_type": "code",
   "execution_count": 6,
   "metadata": {
    "ExecuteTime": {
     "end_time": "2020-07-13T20:35:15.231767Z",
     "start_time": "2020-07-13T20:35:15.226490Z"
    }
   },
   "outputs": [
    {
     "data": {
      "text/plain": [
       "\\ This file has been generated by DOcplex\n",
       "\\ ENCODING=ISO-8859-1\n",
       "\\Problem name: Portfolio optimization\n",
       "\n",
       "Minimize\n",
       " obj: - 0.001157746787 x_0 - 0.001098738826 x_1 - 0.001401489832 x_2\n",
       "      - 0.000072789400 x_3 + [ 0.000292746926 x_0^2 + 0.000340619440 x_0*x_1\n",
       "      + 0.000422204373 x_0*x_2 + 0.000269661618 x_0*x_3 + 0.000245099354 x_1^2\n",
       "      + 0.000279132376 x_1*x_2 + 0.000311704482 x_1*x_3 + 0.000346321976 x_2^2\n",
       "      + 0.000206287297 x_2*x_3 + 0.000278419678 x_3^2 ]/2\n",
       "Subject To\n",
       " c0: x_0 + x_1 + x_2 + x_3 = 2\n",
       "\n",
       "Bounds\n",
       " 0 <= x_0 <= 1\n",
       " 0 <= x_1 <= 1\n",
       " 0 <= x_2 <= 1\n",
       " 0 <= x_3 <= 1\n",
       "\n",
       "Binaries\n",
       " x_0 x_1 x_2 x_3\n",
       "End"
      ]
     },
     "execution_count": 6,
     "metadata": {},
     "output_type": "execute_result"
    }
   ],
   "source": [
    "q = 0.50                   #  risk appetite \n",
    "budget = num_assets//2     #  stocks to allocate\n",
    "penalty = num_assets       #  set parameter to scale the budget penalty term\n",
    "bounds = None              #  Allocation percent: None: 100%\n",
    "\n",
    "portfolio = PortfolioOptimization(expected_returns=mu, covariances=sigma, risk_factor=q, budget=budget,bounds=bounds)\n",
    "qp = portfolio.to_quadratic_program()\n",
    "qp"
   ]
  },
  {
   "cell_type": "code",
   "execution_count": null,
   "metadata": {
    "ExecuteTime": {
     "end_time": "2020-07-13T20:35:15.243604Z",
     "start_time": "2020-07-13T20:35:15.233567Z"
    }
   },
   "outputs": [],
   "source": []
  },
  {
   "cell_type": "markdown",
   "metadata": {
    "tags": []
   },
   "source": [
    "## Solution using VQE\n",
    "We can now use the Variational Quantum Eigensolver (VQE) to solve the problem. We will specify the optimizer and variational form to be used.\n",
    "\n",
    "Note: You can switch to different backends by providing the name of backend."
   ]
  },
  {
   "cell_type": "code",
   "execution_count": 7,
   "metadata": {
    "ExecuteTime": {
     "end_time": "2020-07-13T20:35:26.536878Z",
     "start_time": "2020-07-13T20:35:24.379996Z"
    }
   },
   "outputs": [
    {
     "name": "stderr",
     "output_type": "stream",
     "text": [
      "/opt/conda/lib/python3.8/site-packages/sympy/core/expr.py:3949: SymPyDeprecationWarning: \n",
      "\n",
      "expr_free_symbols method has been deprecated since SymPy 1.9. See\n",
      "https://github.com/sympy/sympy/issues/21494 for more info.\n",
      "\n",
      "  SymPyDeprecationWarning(feature=\"expr_free_symbols method\",\n"
     ]
    },
    {
     "name": "stdout",
     "output_type": "stream",
     "text": [
      "Optimal: selection [0. 1. 1. 0.], value -0.0021\n",
      "\n",
      "----------------- Full result ---------------------\n",
      "selection\tvalue\t\tprobability\n",
      "---------------------------------------------------\n",
      " [1 0 1 0]\t-0.0020\t\t0.4310\n",
      " [0 1 1 0]\t-0.0021\t\t0.3690\n",
      " [1 0 0 1]\t-0.0008\t\t0.0990\n",
      " [0 1 0 1]\t-0.0008\t\t0.0905\n",
      " [1 1 0 0]\t-0.0018\t\t0.0096\n",
      " [0 0 1 1]\t-0.0011\t\t0.0008\n",
      " [1 1 0 1]\t1.0038\t\t0.0001\n",
      " [1 1 1 0]\t1.0025\t\t0.0000\n",
      " [0 1 0 0]\t1.0043\t\t0.0000\n",
      " [1 0 0 0]\t1.0042\t\t0.0000\n",
      " [0 0 0 0]\t4.0209\t\t0.0000\n",
      " [0 0 1 0]\t1.0040\t\t0.0000\n",
      " [1 1 1 1]\t4.0187\t\t0.0000\n",
      " [0 1 1 1]\t1.0035\t\t0.0000\n",
      " [1 0 1 1]\t1.0035\t\t0.0000\n",
      " [0 0 0 1]\t1.0053\t\t0.0000\n"
     ]
    }
   ],
   "source": [
    "algorithm_globals.random_seed = seed+1\n",
    "backend = Aer.get_backend('statevector_simulator')\n",
    "\n",
    "\n",
    "cobyla = COBYLA()\n",
    "cobyla.set_options(maxiter=500)\n",
    "\n",
    "ry = TwoLocal(num_assets, 'ry', 'cz', reps=3, entanglement='full')\n",
    "\n",
    "quantum_instance = QuantumInstance(backend=backend, seed_simulator=seed, seed_transpiler=seed)\n",
    "\n",
    "vqe_mes = VQE(ry, optimizer=cobyla, quantum_instance=quantum_instance)\n",
    "vqe = MinimumEigenOptimizer(vqe_mes)\n",
    "\n",
    "result = vqe.solve(qp)\n",
    "\n",
    "\n",
    "# print(result.fval)\n",
    "print_result(result)"
   ]
  },
  {
   "cell_type": "code",
   "execution_count": 8,
   "metadata": {},
   "outputs": [
    {
     "name": "stdout",
     "output_type": "stream",
     "text": [
      "Stocks from our Qunatum Stock Picking algorthm selected: ['ACN', 'AMZN']\n"
     ]
    }
   ],
   "source": [
    "selected_stocks = list(np.array(stocks)[result.x.astype('bool')])\n",
    "print(f\"Stocks from our Qunatum Stock Picking algorthm selected: {selected_stocks}\")"
   ]
  },
  {
   "cell_type": "markdown",
   "metadata": {},
   "source": [
    "### Student todo, complete an equity curve, CAGR and IR comparison for the portfolio of all the stocks you selected for optimization compared to one which your Quantum Stock picker put together\n",
    "\n",
    "hints:\n",
    "\n",
    "\n",
    "df[selected_stocks] contains a data frame with your stock pick prices.   \n",
    "df is the full list of stocks you started with."
   ]
  },
  {
   "cell_type": "code",
   "execution_count": 9,
   "metadata": {},
   "outputs": [
    {
     "name": "stdout",
     "output_type": "stream",
     "text": [
      "IR selection: 1.35\n",
      "IR all: 1.08 \n",
      "\n",
      "CAGR selection: 33.3%\n",
      "CAGR all: 23.53%\n"
     ]
    },
    {
     "data": {
      "image/png": "[encoded data removed]",
      "text/plain": [
       "<Figure size 432x288 with 1 Axes>"
      ]
     },
     "metadata": {
      "needs_background": "light"
     },
     "output_type": "display_data"
    },
    {
     "data": {
      "image/png": "[encoded data removed]",
      "text/plain": [
       "<Figure size 432x288 with 1 Axes>"
      ]
     },
     "metadata": {
      "needs_background": "light"
     },
     "output_type": "display_data"
    }
   ],
   "source": [
    "all_df=df\n",
    "sel_df=df[selected_stocks]\n",
    "\n",
    "all_df_dr=all_df.pct_change().dropna().mean(axis=1)\n",
    "sel_df_dr=sel_df.pct_change().dropna().mean(axis=1)\n",
    "\n",
    "IR_sel=(sel_df_dr.mean()/sel_df_dr.std())*(252)**0.5\n",
    "IR_all=(all_df_dr.mean()/all_df_dr.std())*(252)**0.5\n",
    "\n",
    "print(f\"IR selection: {round(IR_sel,2)}\")\n",
    "print(f\"IR all: {round(IR_all,2)} \\n\")\n",
    "\n",
    "(all_df*10000).plot()\n",
    "(sel_df*10000).plot()\n",
    "# ..\n",
    "eq_all=all_df_dr.add(1).cumprod()*10000\n",
    "eq_sel=sel_df_dr.add(1).cumprod()*10000\n",
    "\n",
    "CAGR_all=((eq_all.iloc[-1]/10000)**(252/len(eq_all))-1)*100\n",
    "CAGR_sel=((eq_sel.iloc[-1]/10000)**(252/len(eq_sel))-1)*100\n",
    "\n",
    "# (eq_all*10000).plot()\n",
    "# (eq_sel*10000).plot()\n",
    "print(f\"CAGR selection: {round(CAGR_sel,2)}%\")\n",
    "print(f\"CAGR all: {round(CAGR_all,2)}%\")\n"
   ]
  },
  {
   "cell_type": "code",
   "execution_count": 10,
   "metadata": {},
   "outputs": [
    {
     "data": {
      "text/plain": [
       "<AxesSubplot:xlabel='Date'>"
      ]
     },
     "execution_count": 10,
     "metadata": {},
     "output_type": "execute_result"
    },
    {
     "data": {
      "image/png": "[encoded data removed]",
      "text/plain": [
       "<Figure size 432x288 with 1 Axes>"
      ]
     },
     "metadata": {
      "needs_background": "light"
     },
     "output_type": "display_data"
    }
   ],
   "source": [
    "(eq_all).plot()\n",
    "(eq_sel).plot()"
   ]
  },
  {
   "cell_type": "markdown",
   "metadata": {},
   "source": [
    "# (Optional) For Advanced Students:\n",
    "\n",
    "## Here we will make some modifications to do portfolio optimization\n",
    "\n",
    "\n",
    "This tutorial shows how to solve the following mean-variance portfolio optimization problem for $n$ assets:\n",
    "\n",
    "$$\\begin{aligned}\n",
    "\\min_{x \\in \\{j ... k\\}^n}  q x^T \\Sigma x - \\mu^T x\\\\\n",
    "\\text{subject to: } 1^T x = B\n",
    "\\end{aligned}$$\n",
    "\n",
    "where we use the following notation:\n",
    "\n",
    "- $x \\in \\{-j, +k\\}^n$ denotes the vector of weight allocation variables, which indicate the relative allocation to assign. \n",
    "- $\\mu \\in \\mathbb{R}^n$ defines the expected returns for the assets,\n",
    "- $\\Sigma \\in \\mathbb{R}^{n \\times n}$ specifies the covariances between the assets,\n",
    "- $q > 0$ controls the risk appetite of the decision maker,\n",
    "- and $B$ denotes the budget, i.e. the number of assets to be selected out of $n$.\n",
    "\n",
    "We assume the following simplifications:\n",
    "- all assets have the same price (normalized to 1),\n",
    "- the full budget $B$ has to be spent, i.e. one has to allocate exactly $B$ relative amounts of asset.\n",
    "\n",
    "The equality constraint $1^T x = B$ is mapped to a penalty term $(1^T x - B)^2$ which is scaled by a parameter and subtracted from the objective function. \n",
    "The resulting problem can be mapped to a Hamiltonian whose ground state corresponds to  the optimal solution.\n",
    "This rest of this notebook shows how to use the Variational Quantum Eigensolver (VQE) an optimal solution for a given set of parameters."
   ]
  },
  {
   "cell_type": "code",
   "execution_count": 11,
   "metadata": {},
   "outputs": [
    {
     "data": {
      "text/plain": [
       "\\ This file has been generated by DOcplex\n",
       "\\ ENCODING=ISO-8859-1\n",
       "\\Problem name: Portfolio optimization\n",
       "\n",
       "Minimize\n",
       " obj: - 0.001157746787 x_0 - 0.001098738826 x_1 - 0.001401489832 x_2\n",
       "      - 0.000072789400 x_3 + [ 0.000292746926 x_0^2 + 0.000340619440 x_0*x_1\n",
       "      + 0.000422204373 x_0*x_2 + 0.000269661618 x_0*x_3 + 0.000245099354 x_1^2\n",
       "      + 0.000279132376 x_1*x_2 + 0.000311704482 x_1*x_3 + 0.000346321976 x_2^2\n",
       "      + 0.000206287297 x_2*x_3 + 0.000278419678 x_3^2 ]/2\n",
       "Subject To\n",
       " c0: x_0 + x_1 + x_2 + x_3 = 4\n",
       "\n",
       "Bounds\n",
       "       x_0 <= 2\n",
       "       x_1 <= 2\n",
       "       x_2 <= 2\n",
       "       x_3 <= 2\n",
       "\n",
       "Generals\n",
       " x_0 x_1 x_2 x_3\n",
       "End"
      ]
     },
     "execution_count": 11,
     "metadata": {},
     "output_type": "execute_result"
    }
   ],
   "source": [
    "\n",
    "q = 0.50                   #  risk appetite \n",
    "budget = num_assets        #  Units to allocate\n",
    "penalty = num_assets //2   #  set parameter to scale the budget penalty term\n",
    "bounds = [(0,2)]*num_assets  #  Allocation units, can be negative or positive\n",
    "\n",
    "\n",
    "portfolio = PortfolioOptimization(expected_returns=mu, covariances=sigma, risk_factor=q, budget=budget,bounds=bounds)\n",
    "qp = portfolio.to_quadratic_program()\n",
    "qp"
   ]
  },
  {
   "cell_type": "code",
   "execution_count": 12,
   "metadata": {},
   "outputs": [
    {
     "name": "stderr",
     "output_type": "stream",
     "text": [
      "/opt/conda/lib/python3.8/site-packages/sympy/core/expr.py:3949: SymPyDeprecationWarning: \n",
      "\n",
      "expr_free_symbols method has been deprecated since SymPy 1.9. See\n",
      "https://github.com/sympy/sympy/issues/21494 for more info.\n",
      "\n",
      "  SymPyDeprecationWarning(feature=\"expr_free_symbols method\",\n",
      "/opt/conda/lib/python3.8/site-packages/qiskit_optimization/algorithms/optimization_algorithm.py:141: UserWarning: The sum of probability of samples is not close to 1: f{sum_prob}\n",
      "  warn(\"The sum of probability of samples is not close to 1: f{sum_prob}\")\n"
     ]
    }
   ],
   "source": [
    "algorithm_globals.random_seed = seed+1\n",
    "backend = Aer.get_backend('statevector_simulator')\n",
    "\n",
    "\n",
    "cobyla = COBYLA()\n",
    "cobyla.set_options(maxiter=500)\n",
    "\n",
    "ry = TwoLocal(num_assets, 'ry', 'cz', reps=3, entanglement='full')\n",
    "\n",
    "quantum_instance = QuantumInstance(backend=backend, seed_simulator=seed, seed_transpiler=seed)\n",
    "\n",
    "vqe_mes = VQE(ry, optimizer=cobyla, quantum_instance=quantum_instance)\n",
    "vqe = MinimumEigenOptimizer(vqe_mes)\n",
    "\n",
    "result = vqe.solve(qp)"
   ]
  },
  {
   "cell_type": "code",
   "execution_count": 13,
   "metadata": {},
   "outputs": [
    {
     "data": {
      "text/html": [
       "<div>\n",
       "<style scoped>\n",
       "    .dataframe tbody tr th:only-of-type {\n",
       "        vertical-align: middle;\n",
       "    }\n",
       "\n",
       "    .dataframe tbody tr th {\n",
       "        vertical-align: top;\n",
       "    }\n",
       "\n",
       "    .dataframe thead th {\n",
       "        text-align: right;\n",
       "    }\n",
       "</style>\n",
       "<table border=\"1\" class=\"dataframe\">\n",
       "  <thead>\n",
       "    <tr style=\"text-align: right;\">\n",
       "      <th></th>\n",
       "      <th>GOOGL</th>\n",
       "      <th>ACN</th>\n",
       "      <th>AMZN</th>\n",
       "      <th>IBM</th>\n",
       "    </tr>\n",
       "  </thead>\n",
       "  <tbody>\n",
       "    <tr>\n",
       "      <th>Allocation</th>\n",
       "      <td>1.0</td>\n",
       "      <td>1.0</td>\n",
       "      <td>2.0</td>\n",
       "      <td>0.0</td>\n",
       "    </tr>\n",
       "  </tbody>\n",
       "</table>\n",
       "</div>"
      ],
      "text/plain": [
       "            GOOGL  ACN  AMZN  IBM\n",
       "Allocation    1.0  1.0   2.0  0.0"
      ]
     },
     "execution_count": 13,
     "metadata": {},
     "output_type": "execute_result"
    }
   ],
   "source": [
    "allocations = pandas.DataFrame({f\"{stocks[tidx]}\":result.x[tidx] for tidx in range(len(stocks))},index=['Allocation'])\n",
    "allocations"
   ]
  },
  {
   "cell_type": "markdown",
   "metadata": {},
   "source": [
    "### Student todo, complete an equity curve, CAGR and IR comparison for the a portfolio of all the stocks you selected for optimization compared to one which your Quantum Portfolio Optimzer put together.\n",
    "\n",
    "hints:\n",
    "\n",
    "\n",
    "The variable allocations contains a DataFrame with your relative stock allocations.   \n",
    "df is the full list of stocks you started with."
   ]
  },
  {
   "cell_type": "code",
   "execution_count": 19,
   "metadata": {},
   "outputs": [
    {
     "data": {
      "text/html": [
       "<div>\n",
       "<style scoped>\n",
       "    .dataframe tbody tr th:only-of-type {\n",
       "        vertical-align: middle;\n",
       "    }\n",
       "\n",
       "    .dataframe tbody tr th {\n",
       "        vertical-align: top;\n",
       "    }\n",
       "\n",
       "    .dataframe thead th {\n",
       "        text-align: right;\n",
       "    }\n",
       "</style>\n",
       "<table border=\"1\" class=\"dataframe\">\n",
       "  <thead>\n",
       "    <tr style=\"text-align: right;\">\n",
       "      <th></th>\n",
       "      <th>GOOGL</th>\n",
       "      <th>ACN</th>\n",
       "      <th>AMZN</th>\n",
       "      <th>IBM</th>\n",
       "    </tr>\n",
       "    <tr>\n",
       "      <th>Date</th>\n",
       "      <th></th>\n",
       "      <th></th>\n",
       "      <th></th>\n",
       "      <th></th>\n",
       "    </tr>\n",
       "  </thead>\n",
       "  <tbody>\n",
       "    <tr>\n",
       "      <th>2017-01-04</th>\n",
       "      <td>-0.000297</td>\n",
       "      <td>0.002404</td>\n",
       "      <td>0.004657</td>\n",
       "      <td>0.012381</td>\n",
       "    </tr>\n",
       "    <tr>\n",
       "      <th>2017-01-05</th>\n",
       "      <td>0.006499</td>\n",
       "      <td>-0.014990</td>\n",
       "      <td>0.030732</td>\n",
       "      <td>-0.003308</td>\n",
       "    </tr>\n",
       "    <tr>\n",
       "      <th>2017-01-06</th>\n",
       "      <td>0.014993</td>\n",
       "      <td>0.011392</td>\n",
       "      <td>0.019912</td>\n",
       "      <td>0.004920</td>\n",
       "    </tr>\n",
       "    <tr>\n",
       "      <th>2017-01-09</th>\n",
       "      <td>0.002387</td>\n",
       "      <td>-0.011178</td>\n",
       "      <td>0.001168</td>\n",
       "      <td>-0.011089</td>\n",
       "    </tr>\n",
       "    <tr>\n",
       "      <th>2017-01-10</th>\n",
       "      <td>-0.001414</td>\n",
       "      <td>0.000522</td>\n",
       "      <td>-0.001280</td>\n",
       "      <td>-0.012705</td>\n",
       "    </tr>\n",
       "    <tr>\n",
       "      <th>...</th>\n",
       "      <td>...</td>\n",
       "      <td>...</td>\n",
       "      <td>...</td>\n",
       "      <td>...</td>\n",
       "    </tr>\n",
       "    <tr>\n",
       "      <th>2021-11-24</th>\n",
       "      <td>0.002319</td>\n",
       "      <td>0.004630</td>\n",
       "      <td>0.000103</td>\n",
       "      <td>-0.000514</td>\n",
       "    </tr>\n",
       "    <tr>\n",
       "      <th>2021-11-26</th>\n",
       "      <td>-0.026944</td>\n",
       "      <td>-0.024202</td>\n",
       "      <td>-0.021185</td>\n",
       "      <td>-0.007881</td>\n",
       "    </tr>\n",
       "    <tr>\n",
       "      <th>2021-11-29</th>\n",
       "      <td>0.023544</td>\n",
       "      <td>0.034559</td>\n",
       "      <td>0.016267</td>\n",
       "      <td>0.023228</td>\n",
       "    </tr>\n",
       "    <tr>\n",
       "      <th>2021-11-30</th>\n",
       "      <td>-0.024964</td>\n",
       "      <td>-0.023017</td>\n",
       "      <td>-0.015302</td>\n",
       "      <td>-0.011814</td>\n",
       "    </tr>\n",
       "    <tr>\n",
       "      <th>2021-12-01</th>\n",
       "      <td>-0.005962</td>\n",
       "      <td>0.007667</td>\n",
       "      <td>-0.018064</td>\n",
       "      <td>-0.001537</td>\n",
       "    </tr>\n",
       "  </tbody>\n",
       "</table>\n",
       "<p>1237 rows × 4 columns</p>\n",
       "</div>"
      ],
      "text/plain": [
       "               GOOGL       ACN      AMZN       IBM\n",
       "Date                                              \n",
       "2017-01-04 -0.000297  0.002404  0.004657  0.012381\n",
       "2017-01-05  0.006499 -0.014990  0.030732 -0.003308\n",
       "2017-01-06  0.014993  0.011392  0.019912  0.004920\n",
       "2017-01-09  0.002387 -0.011178  0.001168 -0.011089\n",
       "2017-01-10 -0.001414  0.000522 -0.001280 -0.012705\n",
       "...              ...       ...       ...       ...\n",
       "2021-11-24  0.002319  0.004630  0.000103 -0.000514\n",
       "2021-11-26 -0.026944 -0.024202 -0.021185 -0.007881\n",
       "2021-11-29  0.023544  0.034559  0.016267  0.023228\n",
       "2021-11-30 -0.024964 -0.023017 -0.015302 -0.011814\n",
       "2021-12-01 -0.005962  0.007667 -0.018064 -0.001537\n",
       "\n",
       "[1237 rows x 4 columns]"
      ]
     },
     "execution_count": 19,
     "metadata": {},
     "output_type": "execute_result"
    }
   ],
   "source": [
    "portfolio_return=df.pct_change().dropna()\n",
    "portfolio_return\n"
   ]
  },
  {
   "cell_type": "code",
   "execution_count": 17,
   "metadata": {},
   "outputs": [
    {
     "data": {
      "text/plain": [
       "Date\n",
       "2017-01-04    0.002855\n",
       "2017-01-05    0.013243\n",
       "2017-01-06    0.016552\n",
       "2017-01-09   -0.001614\n",
       "2017-01-10   -0.000863\n",
       "                ...   \n",
       "2021-11-24    0.001789\n",
       "2021-11-26   -0.023379\n",
       "2021-11-29    0.022659\n",
       "2021-11-30   -0.019646\n",
       "2021-12-01   -0.008606\n",
       "Length: 1237, dtype: float64"
      ]
     },
     "execution_count": 17,
     "metadata": {},
     "output_type": "execute_result"
    }
   ],
   "source": [
    "portfolio_return_dr=(portfolio_return*allocations.values).mean(axis=1)\n",
    "portfolio_return_dr"
   ]
  },
  {
   "cell_type": "code",
   "execution_count": null,
   "metadata": {},
   "outputs": [],
   "source": [
    "portfolio_return=df.pct_change().dropna()\n",
    "portfolio_return_dr=(portfolio_return*allocations.values).mean(axis=1)\n",
    "\n",
    "IR_portfolio_return=(portfolio_return.mean()/portfolio_return.std())*(252)**0.5\n",
    "\n",
    "print(f\"IR selection: {round(IR_portfolio_return,2)}\")\n",
    "\n",
    "(portfolio_return*10000).plot()\n",
    "# ..\n",
    "eq_portfolio_return=portfolio_return.add(1).cumprod()*10000\n",
    "eq_portfolio_return.plot()\n",
    "CAGR_=((eq_portfolio_return.iloc[-1]/10000)**(252/len(eq_portfolio_return))-1)*100\n",
    "rint(f\"CAGR selection: {round(CAGR_,2)}%\")\n"
   ]
  }
 ],
 "metadata": {
  "celltoolbar": "Tags",
  "kernelspec": {
   "display_name": "Qiskit v0.32.1 (ipykernel)",
   "language": "python",
   "name": "python3"
  },
  "language_info": {
   "codemirror_mode": {
    "name": "ipython",
    "version": 3
   },
   "file_extension": ".py",
   "mimetype": "text/x-python",
   "name": "python",
   "nbconvert_exporter": "python",
   "pygments_lexer": "ipython3",
   "version": "3.8.10"
  },
  "varInspector": {
   "cols": {
    "lenName": 16,
    "lenType": 16,
    "lenVar": 40
   },
   "kernels_config": {
    "python": {
     "delete_cmd_postfix": "",
     "delete_cmd_prefix": "del ",
     "library": "var_list.py",
     "varRefreshCmd": "print(var_dic_list())"
    },
    "r": {
     "delete_cmd_postfix": ") ",
     "delete_cmd_prefix": "rm(",
     "library": "var_list.r",
     "varRefreshCmd": "cat(var_dic_list()) "
    }
   },
   "types_to_exclude": [
    "module",
    "function",
    "builtin_function_or_method",
    "instance",
    "_Feature"
   ],
   "window_display": false
  },
  "widgets": {
   "application/vnd.jupyter.widget-state+json": {
    "state": {},
    "version_major": 2,
    "version_minor": 0
   }
  }
 },
 "nbformat": 4,
 "nbformat_minor": 4
}
